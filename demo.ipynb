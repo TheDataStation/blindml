{
 "cells": [
  {
   "cell_type": "code",
   "execution_count": 1,
   "metadata": {
    "pycharm": {
     "name": "#%%\n"
    }
   },
   "outputs": [],
   "source": [
    "import warnings\n",
    "warnings.filterwarnings(\"ignore\")\n",
    "import tensorflow as tf\n",
    "from typing import List\n",
    "from blindml.frontend.config.task.task import parse_task_capsule\n",
    "from blindml.frontend.reporting.wit import df_to_examples, create_feature_spec, create_feature_columns, \\\n",
    "    examples_to_array\n",
    "from witwidget.notebook.visualization import WitConfigBuilder\n",
    "from witwidget.notebook.visualization import WitWidget"
   ]
  },
  {
   "cell_type": "code",
   "execution_count": 2,
   "metadata": {
    "pycharm": {
     "name": "#%%\n"
    },
    "scrolled": true
   },
   "outputs": [
    {
     "name": "stdout",
     "output_type": "stream",
     "text": [
      "INFO:  Stopping experiment maxs_experiment_30eb12a598a964e151e092ccab5336df\n",
      "INFO:  Stop experiment success.\n",
      "INFO:  Starting restful server...\n",
      "INFO:  Successfully started Restful server!\n",
      "INFO:  Setting local config...\n",
      "INFO:  Successfully set local config!\n",
      "INFO:  Starting experiment...\n"
     ]
    }
   ],
   "source": [
    "task_file_fp = \"/Users/maksim/dev_projects/blindml/tests/perovskite_task.jsonnet\"\n",
    "task = parse_task_capsule(task_file_fp)\n",
    "task.search_for_model()\n",
    "model = task.train_best_model()"
   ]
  },
  {
   "cell_type": "code",
   "execution_count": 3,
   "metadata": {},
   "outputs": [],
   "source": [
    "df = task._data_set._df\n",
    "X_cols, y_col = task._data_set._X_cols, task._data_set._y_col\n",
    "features_and_labels = X_cols + [y_col]\n",
    "examples = df_to_examples(df)\n",
    "feature_spec = create_feature_spec(df, features_and_labels)\n",
    "create_feature_columns(X_cols, feature_spec);"
   ]
  },
  {
   "cell_type": "code",
   "execution_count": 4,
   "metadata": {},
   "outputs": [
    {
     "data": {
      "text/plain": [
       "'energy_above_hull (meV/atom)'"
      ]
     },
     "execution_count": 4,
     "metadata": {},
     "output_type": "execute_result"
    }
   ],
   "source": [
    "y_col"
   ]
  },
  {
   "cell_type": "code",
   "execution_count": 5,
   "metadata": {
    "pycharm": {
     "name": "#%%\n"
    }
   },
   "outputs": [],
   "source": [
    "# takes a proto that's a list of protos\n",
    "def custom_predict(examples_to_infer: List[tf.train.Example]):\n",
    "    arr = examples_to_array(examples_to_infer, X_cols)\n",
    "    return model.predict(arr)"
   ]
  },
  {
   "cell_type": "code",
   "execution_count": 7,
   "metadata": {
    "pycharm": {
     "name": "#%%\n"
    },
    "scrolled": false
   },
   "outputs": [
    {
     "ename": "TypeError",
     "evalue": "list indices must be integers or slices, not list",
     "output_type": "error",
     "traceback": [
      "\u001b[0;31m---------------------------------------------------------------------------\u001b[0m",
      "\u001b[0;31mTypeError\u001b[0m                                 Traceback (most recent call last)",
      "\u001b[0;32m<ipython-input-7-7757e0d49973>\u001b[0m in \u001b[0;36m<module>\u001b[0;34m\u001b[0m\n\u001b[1;32m      7\u001b[0m \u001b[0;31m# Setup the tool with the test examples and the trained classifier\u001b[0m\u001b[0;34m\u001b[0m\u001b[0;34m\u001b[0m\u001b[0;34m\u001b[0m\u001b[0m\n\u001b[1;32m      8\u001b[0m config_builder = WitConfigBuilder(\n\u001b[0;32m----> 9\u001b[0;31m     \u001b[0mtest_examples\u001b[0m\u001b[0;34m[\u001b[0m\u001b[0;34m:\u001b[0m\u001b[0mnum_datapoints\u001b[0m\u001b[0;34m]\u001b[0m\u001b[0;34m[\u001b[0m\u001b[0mX_cols\u001b[0m\u001b[0;34m]\u001b[0m\u001b[0;34m,\u001b[0m\u001b[0;34m\u001b[0m\u001b[0;34m\u001b[0m\u001b[0m\n\u001b[0m\u001b[1;32m     10\u001b[0m     \u001b[0mfeature_names\u001b[0m\u001b[0;34m=\u001b[0m\u001b[0mX_cols\u001b[0m\u001b[0;34m\u001b[0m\u001b[0;34m\u001b[0m\u001b[0m\n\u001b[1;32m     11\u001b[0m ).set_model_type('regression').set_custom_predict_fn(custom_predict)\n",
      "\u001b[0;31mTypeError\u001b[0m: list indices must be integers or slices, not list"
     ]
    }
   ],
   "source": [
    "num_datapoints = 200\n",
    "tool_height_in_px = 500\n",
    "\n",
    "# Load up the test dataset\n",
    "test_examples = df_to_examples(df[0:num_datapoints])\n",
    "\n",
    "# Setup the tool with the test examples and the trained classifier\n",
    "config_builder = WitConfigBuilder(\n",
    "    test_examples[:num_datapoints][X_cols], \n",
    "    feature_names=X_cols\n",
    ").set_model_type('regression').set_custom_predict_fn(custom_predict)\n",
    "\n",
    "WitWidget(config_builder, height=tool_height_in_px)\n"
   ]
  },
  {
   "cell_type": "code",
   "execution_count": null,
   "metadata": {},
   "outputs": [],
   "source": []
  }
 ],
 "metadata": {
  "kernelspec": {
   "display_name": "Python 3",
   "language": "python",
   "name": "python3"
  },
  "language_info": {
   "codemirror_mode": {
    "name": "ipython",
    "version": 3
   },
   "file_extension": ".py",
   "mimetype": "text/x-python",
   "name": "python",
   "nbconvert_exporter": "python",
   "pygments_lexer": "ipython3",
   "version": "3.7.4"
  },
  "toc": {
   "base_numbering": 1,
   "nav_menu": {},
   "number_sections": true,
   "sideBar": true,
   "skip_h1_title": false,
   "title_cell": "Table of Contents",
   "title_sidebar": "Contents",
   "toc_cell": false,
   "toc_position": {},
   "toc_section_display": true,
   "toc_window_display": false
  }
 },
 "nbformat": 4,
 "nbformat_minor": 1
}
