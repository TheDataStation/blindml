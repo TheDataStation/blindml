{
 "cells": [
  {
   "cell_type": "code",
   "execution_count": 1,
   "metadata": {},
   "outputs": [],
   "source": [
    "from pprint import pprint\n",
    "from blindml.frontend.config.task.task import parse_task_capsule\n",
    "from blindml.frontend.reporting.metrics import plot_trial_record\n",
    "import warnings\n",
    "warnings.filterwarnings(\"ignore\")"
   ]
  },
  {
   "cell_type": "markdown",
   "metadata": {
    "pycharm": {
     "name": "#%% md\n"
    }
   },
   "source": [
    "```\n",
    "{\n",
    "  user: 'max',\n",
    "  access_token: '1234567',\n",
    "  task: {\n",
    "    type: 'regression',\n",
    "    payload: {\n",
    "      y_col: 'EA',\n",
    "      drop_cols: [\n",
    "        'inchi_key',\n",
    "        'wall_time_neutral',\n",
    "        'EA_wall_time',\n",
    "        'IP_wall_time',\n",
    "        'xyz_neutral',\n",
    "        'xyz_reduced',\n",
    "        'xyz_oxidized',\n",
    "        'smiles',\n",
    "        'inchi',\n",
    "      ],\n",
    "      data_path: \"/Users/maksim/dev_projects/blindml/data/xtb-redox.csv\"\n",
    "    },\n",
    "  },\n",
    "  dos: {\n",
    "    metric: 'accuracy',\n",
    "    range: [0.8, 1],\n",
    "  },\n",
    "  trust_constraints: {\n",
    "    freshness: 'last_week',\n",
    "    user: 'all_groups',\n",
    "  },\n",
    "}\n",
    "```"
   ]
  },
  {
   "cell_type": "code",
   "execution_count": 9,
   "metadata": {},
   "outputs": [
    {
     "name": "stdout",
     "output_type": "stream",
     "text": [
      "INFO: \u001b[0m \u001b[0mStopping experiment maxs_experiment_bd41ddb529ac1489f8290a406f9a4628\u001b[0m\r\n",
      "\u001b[0mINFO: \u001b[0m \u001b[0mStop experiment success.\u001b[0m\r\n",
      "\u001b[0m\u001b[0m"
     ]
    }
   ],
   "source": [
    "!nnictl  stop\n",
    "!rm -rf ~/nni-experiments/maxs_experiment_*\n",
    "!rm -rf  ~/.local/nnictl/maxs_experiment*"
   ]
  },
  {
   "cell_type": "code",
   "execution_count": 2,
   "metadata": {
    "pycharm": {
     "name": "#%%\n"
    }
   },
   "outputs": [],
   "source": [
    "task_file_fp = \"/Users/maksim/dev_projects/blindml/tests/task.jsonnet\"\n",
    "task = parse_task_capsule(task_file_fp)"
   ]
  },
  {
   "cell_type": "code",
   "execution_count": 3,
   "metadata": {},
   "outputs": [
    {
     "name": "stdout",
     "output_type": "stream",
     "text": [
      "{ 'access_token': '1234567',\n",
      "  'dos': { 'metric': 'accuracy',\n",
      "           'range': [0.8, 1]},\n",
      "  'task': { 'payload': { 'data_path': '/Users/maksim/dev_projects/blindml/data/xtb-redox.csv',\n",
      "                         'drop_cols': [ 'inchi_key',\n",
      "                                        'wall_time_neutral',\n",
      "                                        'EA_wall_time',\n",
      "                                        'IP_wall_time',\n",
      "                                        'xyz_neutral',\n",
      "                                        'xyz_reduced',\n",
      "                                        'xyz_oxidized',\n",
      "                                        'smiles',\n",
      "                                        'inchi'],\n",
      "                         'y_col': 'EA'},\n",
      "            'type': 'regression'},\n",
      "  'trust_constraints': { 'freshness': 'last_week',\n",
      "                         'user': 'all_groups'},\n",
      "  'user': 'max'}\n"
     ]
    }
   ],
   "source": [
    "print(task)"
   ]
  },
  {
   "cell_type": "code",
   "execution_count": 5,
   "metadata": {
    "pycharm": {
     "name": "#%%\n"
    }
   },
   "outputs": [
    {
     "name": "stdout",
     "output_type": "stream",
     "text": [
      "INFO:  Starting restful server...\n",
      "INFO:  Successfully started Restful server!\n",
      "INFO:  Setting local config...\n",
      "INFO:  Successfully set local config!\n",
      "INFO:  Starting experiment...\n"
     ]
    }
   ],
   "source": [
    "task.search_for_model()"
   ]
  },
  {
   "cell_type": "code",
   "execution_count": 4,
   "metadata": {
    "pycharm": {
     "name": "#%%\n"
    }
   },
   "outputs": [
    {
     "data": {
      "image/png": "[encoded data removed]",
      "text/plain": [
       "<Figure size 432x288 with 1 Axes>"
      ]
     },
     "metadata": {
      "needs_background": "light"
     },
     "output_type": "display_data"
    }
   ],
   "source": [
    "metric_values = task.get_model_search_update()\n",
    "plot_trial_record(metric_values)"
   ]
  },
  {
   "cell_type": "code",
   "execution_count": 5,
   "metadata": {
    "pycharm": {
     "name": "#%%\n"
    }
   },
   "outputs": [
    {
     "name": "stdout",
     "output_type": "stream",
     "text": [
      "None\n",
      "{'_name': 'KernelRidgeRegression', 'alpha': 1e-06, 'kernel': 'polynomial'}\n"
     ]
    }
   ],
   "source": [
    "res = task.train_best_model()\n",
    "print(res[\"hyper_parameters\"]['task_type']['model'])"
   ]
  },
  {
   "cell_type": "code",
   "execution_count": 6,
   "metadata": {
    "pycharm": {
     "name": "#%%\n"
    }
   },
   "outputs": [],
   "source": [
    "task.save_model(res, \"/Users/maksim/dev_projects/blindml/tests\")"
   ]
  },
  {
   "cell_type": "code",
   "execution_count": 7,
   "metadata": {},
   "outputs": [
    {
     "name": "stdout",
     "output_type": "stream",
     "text": [
      "maxs_experiment.joblib \u001b[31mrun.sh\u001b[m\u001b[m                 test_backend.py\r\n",
      "nni_config.yml         task.jsonnet           test_task_capsule.py\r\n"
     ]
    }
   ],
   "source": [
    "!ls /Users/maksim/dev_projects/blindml/tests"
   ]
  },
  {
   "cell_type": "code",
   "execution_count": 8,
   "metadata": {
    "pycharm": {
     "name": "#%%\n"
    }
   },
   "outputs": [
    {
     "name": "stdout",
     "output_type": "stream",
     "text": [
      "{'Metric.MSE': 0.009186715762124752, 'Metric.R2': 0.9930906394169245}\n"
     ]
    }
   ],
   "source": [
    "res = task.load_model(\"/Users/maksim/dev_projects/blindml/tests\")\n",
    "pprint(res[\"scores\"])"
   ]
  }
 ],
 "metadata": {
  "kernelspec": {
   "display_name": "Python 3",
   "language": "python",
   "name": "python3"
  },
  "language_info": {
   "codemirror_mode": {
    "name": "ipython",
    "version": 3
   },
   "file_extension": ".py",
   "mimetype": "text/x-python",
   "name": "python",
   "nbconvert_exporter": "python",
   "pygments_lexer": "ipython3",
   "version": "3.7.4"
  },
  "toc": {
   "base_numbering": 1,
   "nav_menu": {},
   "number_sections": true,
   "sideBar": true,
   "skip_h1_title": false,
   "title_cell": "Table of Contents",
   "title_sidebar": "Contents",
   "toc_cell": false,
   "toc_position": {},
   "toc_section_display": true,
   "toc_window_display": false
  }
 },
 "nbformat": 4,
 "nbformat_minor": 1
}
