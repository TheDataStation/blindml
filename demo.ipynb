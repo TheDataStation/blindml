{
 "cells": [
  {
   "cell_type": "code",
   "execution_count": null,
   "outputs": [],
   "source": [
    "import warnings\n",
    "from datetime import time\n",
    "warnings.filterwarnings(\"ignore\")\n",
    "import tensorflow as tf\n",
    "from typing import List\n",
    "from blindml.frontend.config.task.task import parse_task_capsule\n",
    "from blindml.frontend.reporting.wit import df_to_examples, create_feature_spec, create_feature_columns, \\\n",
    "    examples_to_array\n",
    "from witwidget.notebook.visualization import WitConfigBuilder\n",
    "from witwidget.notebook.visualization import WitWidget"
   ],
   "metadata": {
    "collapsed": false,
    "pycharm": {
     "name": "#%%\n"
    }
   }
  },
  {
   "cell_type": "code",
   "execution_count": 2,
   "metadata": {
    "pycharm": {
     "name": "#%%\n"
    },
    "scrolled": true
   },
   "outputs": [
    {
     "name": "stdout",
     "output_type": "stream",
     "text": [
      "INFO:  Stopping experiment maxs_experiment_ea88db0ea0f78f5d1c5d9d2885387bfe\n",
      "INFO:  Stop experiment success.\n",
      "INFO:  Starting restful server...\n",
      "INFO:  Successfully started Restful server!\n",
      "INFO:  Setting local config...\n",
      "INFO:  Successfully set local config!\n",
      "INFO:  Starting experiment...\n"
     ]
    }
   ],
   "source": [
    "task_file_fp = \"/home/maksim/dev_projects/blindml/tests/perovskite_task.jsonnet\"\n",
    "task = parse_task_capsule(task_file_fp)\n",
    "task.search_for_model()\n",
    "while not task.get_model_search_update():\n",
    "    print(\"no model trained yet\")\n",
    "    time.sleep(2)\n",
    "model = task.train_best_model()"
   ]
  },
  {
   "cell_type": "code",
   "execution_count": 5,
   "metadata": {},
   "outputs": [],
   "source": [
    "df = task._data_set._df\n",
    "X_cols, y_col = task._data_set._X_cols, task._data_set._y_col\n",
    "features_and_labels = X_cols + [y_col]\n",
    "examples = df_to_examples(df)\n",
    "feature_spec = create_feature_spec(df, features_and_labels)\n",
    "create_feature_columns(X_cols, feature_spec);"
   ]
  },
  {
   "cell_type": "code",
   "execution_count": 6,
   "metadata": {},
   "outputs": [
    {
     "data": {
      "text/plain": [
       "'energy_above_hull (meV/atom)'"
      ]
     },
     "execution_count": 6,
     "metadata": {},
     "output_type": "execute_result"
    }
   ],
   "source": [
    "y_col"
   ]
  },
  {
   "cell_type": "code",
   "execution_count": 7,
   "metadata": {
    "pycharm": {
     "name": "#%%\n"
    }
   },
   "outputs": [],
   "source": [
    "# takes a proto that's a list of protos\n",
    "def custom_predict(examples_to_infer: List[tf.train.Example]):\n",
    "    arr = examples_to_array(examples_to_infer, X_cols)\n",
    "    return model.predict(arr)"
   ]
  },
  {
   "cell_type": "code",
   "execution_count": 9,
   "metadata": {
    "pycharm": {
     "name": "#%%\n"
    },
    "scrolled": false
   },
   "outputs": [
    {
     "data": {
      "text/html": [
       "<style>.container { width:100% !important; }</style>"
      ],
      "text/plain": [
       "<IPython.core.display.HTML object>"
      ]
     },
     "metadata": {},
     "output_type": "display_data"
    },
    {
     "data": {
      "application/vnd.jupyter.widget-view+json": {
       "model_id": "ca8460c18667406eb25d378e959b30ec",
       "version_major": 2,
       "version_minor": 0
      },
      "text/plain": [
       "WitWidget(config={'model_type': 'regression', 'label_vocab': [], 'feature_names': ['covalent radius_AB_avg', '…"
      ]
     },
     "metadata": {},
     "output_type": "display_data"
    }
   ],
   "source": [
    "num_datapoints = 1000\n",
    "tool_height_in_px = 1500\n",
    "\n",
    "# Load up the test dataset\n",
    "test_examples = df_to_examples(df[features_and_labels][0:num_datapoints])\n",
    "\n",
    "# Setup the tool with the test examples and the trained classifier\n",
    "config_builder = WitConfigBuilder(\n",
    "    test_examples[:num_datapoints], \n",
    "    feature_names=features_and_labels\n",
    ").set_model_type('regression').set_custom_predict_fn(custom_predict).set_target_feature(y_col)\n",
    "\n",
    "WitWidget(config_builder)\n"
   ]
  },
  {
   "cell_type": "code",
   "execution_count": null,
   "metadata": {},
   "outputs": [],
   "source": []
  }
 ],
 "metadata": {
  "@webio": {
   "lastCommId": null,
   "lastKernelId": null
  },
  "kernelspec": {
   "display_name": "Python 3",
   "language": "python",
   "name": "python3"
  },
  "language_info": {
   "codemirror_mode": {
    "name": "ipython",
    "version": 3
   },
   "file_extension": ".py",
   "mimetype": "text/x-python",
   "name": "python",
   "nbconvert_exporter": "python",
   "pygments_lexer": "ipython3",
   "version": "3.7.2"
  },
  "toc": {
   "base_numbering": 1,
   "nav_menu": {},
   "number_sections": true,
   "sideBar": true,
   "skip_h1_title": false,
   "title_cell": "Table of Contents",
   "title_sidebar": "Contents",
   "toc_cell": false,
   "toc_position": {},
   "toc_section_display": true,
   "toc_window_display": false
  },
  "varInspector": {
   "cols": {
    "lenName": 16,
    "lenType": 16,
    "lenVar": 40
   },
   "kernels_config": {
    "python": {
     "delete_cmd_postfix": "",
     "delete_cmd_prefix": "del ",
     "library": "var_list.py",
     "varRefreshCmd": "print(var_dic_list())"
    },
    "r": {
     "delete_cmd_postfix": ") ",
     "delete_cmd_prefix": "rm(",
     "library": "var_list.r",
     "varRefreshCmd": "cat(var_dic_list()) "
    }
   },
   "types_to_exclude": [
    "module",
    "function",
    "builtin_function_or_method",
    "instance",
    "_Feature"
   ],
   "window_display": false
  }
 },
 "nbformat": 4,
 "nbformat_minor": 1
}